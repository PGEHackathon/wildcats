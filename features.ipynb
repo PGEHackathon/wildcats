{
 "cells": [
  {
   "cell_type": "code",
   "execution_count": 48,
   "id": "53af153f",
   "metadata": {},
   "outputs": [],
   "source": [
    "import geostatspy.GSLIB as GSLIB                        # GSLIB utilies, visualization and wrapper\n",
    "import geostatspy.geostats as geostats                  # GSLIB methods convert to Python      \n",
    "\n",
    "import sys\n",
    "#!{sys.executable} -m pip install --user numpy==1.21\n",
    "\n",
    "import numpy as np                                      # ndarrys for gridded data\n",
    "import pandas as pd                                     # DataFrames for tabular data\n",
    "import os                        # set working directory, run executables\n",
    "import matplotlib.pyplot as plt                         # for plotting\n",
    "from matplotlib.colors import ListedColormap            # custom color maps\n",
    "from matplotlib.ticker import (MultipleLocator, AutoMinorLocator) # control of axes ticks\n",
    "from scipy import stats                                 # summary statistics\n",
    "import math                                             # trigonometry etc.\n",
    "import scipy.signal as signal                           # kernel for moving window calculation\n",
    "import random                                           # for randon numbers\n",
    "import seaborn as sns                                   # for matrix scatter plots\n",
    "from scipy import linalg                                # for linear regression\n",
    "from sklearn import preprocessing                       # remove encoding error\n",
    "from sklearn.feature_selection import RFE               # for recursive feature selection\n",
    "from sklearn.feature_selection import mutual_info_regression # mutual information\n",
    "from sklearn.linear_model import LinearRegression       # linear regression model\n",
    "from sklearn.ensemble import RandomForestRegressor      # model-based feature importance\n",
    "from statsmodels.stats.outliers_influence import variance_inflation_factor # variance inflation factor\n",
    "plt.rc('axes', axisbelow=True)                          # girds and axes behind all plot elements\n",
    "cmap = plt.cm.inferno   # default colormap\n",
    "\n",
    "df = pd.read_csv('HackathonData2024.csv')\n",
    "\n",
    "y = df['Avg Pump Difference']\n",
    "\n",
    "x_options = df.drop(columns=['Well ID', 'Avg Pump Difference'])\n",
    "\n",
    "for column in x_options:\n",
    "    x = df[column]\n",
    "    plt.scatter(x, y)\n",
    "    \n",
    "    \n"
   ]
  },
  {
   "cell_type": "code",
   "execution_count": null,
   "id": "f4fb425b",
   "metadata": {},
   "outputs": [],
   "source": []
  }
 ],
 "metadata": {
  "kernelspec": {
   "display_name": "Python 3 (ipykernel)",
   "language": "python",
   "name": "python3"
  },
  "language_info": {
   "codemirror_mode": {
    "name": "ipython",
    "version": 3
   },
   "file_extension": ".py",
   "mimetype": "text/x-python",
   "name": "python",
   "nbconvert_exporter": "python",
   "pygments_lexer": "ipython3",
   "version": "3.11.5"
  }
 },
 "nbformat": 4,
 "nbformat_minor": 5
}
