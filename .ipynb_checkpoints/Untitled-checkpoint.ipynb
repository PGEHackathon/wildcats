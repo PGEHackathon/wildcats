{
 "cells": [
  {
   "cell_type": "code",
   "execution_count": 86,
   "id": "a6bd7931",
   "metadata": {},
   "outputs": [],
   "source": [
    "import pandas\n",
    "from sklearn import linear_model\n",
    "from sklearn import model_selection\n",
    "from sklearn.metrics import accuracy_score\n",
    "\n",
    "import os                                                 # to set current working directory \n",
    "import math                                               # basic calculations like square root\n",
    "from sklearn.model_selection import train_test_split      # train and test split\n",
    "from sklearn import tree                                  # tree program from scikit learn (package for machine learning)\n",
    "from sklearn.metrics import mean_squared_error            # specific measures to check our models\n",
    "import pandas as pd                                       # DataFrames for tabular data\n",
    "import numpy as np                                        # arrays and matrix math\n",
    "import matplotlib.pyplot as plt                           # general plotting\n",
    "import seaborn as sns\n",
    "\n",
    "import os                                                   # to set current working directory \n",
    "import math                                                 # basic calculations like square root\n",
    "import pandas as pd                                         # DataFrames and plotting\n",
    "import numpy as np                                          # arrays and matrix math\n",
    "import matplotlib.pyplot as plt                             # plotting\n",
    "import matplotlib.ticker as ticker                          # modify the plot axis labels\n",
    "from sklearn.model_selection import train_test_split        # train and test split\n",
    "from sklearn.pipeline import Pipeline                       # machine learning modeling pipeline\n",
    "from sklearn.model_selection import GridSearchCV            # model hyperparameter grid search\n",
    "from sklearn.model_selection import KFold                   # k-fold cross validation\n",
    "from sklearn.preprocessing import StandardScaler            # feature standardization\n",
    "np.random.seed(seed=73038)                                  # set the random number seed\n",
    "import warnings\n",
    "warnings.filterwarnings('ignore')  "
   ]
  },
  {
   "cell_type": "code",
   "execution_count": 87,
   "id": "0df77937",
   "metadata": {},
   "outputs": [],
   "source": [
    "df = pandas.read_csv(\"ImputedValues.csv\")"
   ]
  },
  {
   "cell_type": "code",
   "execution_count": 88,
   "id": "0ba3e3ee",
   "metadata": {},
   "outputs": [],
   "source": [
    "X = df[['PARENT_3000_WELL_COUNT', 'Avg Close Pressure', 'Avg Open Pressure', 'Pressure Gradient (psi/ft) new', 'Soak Time']]\n",
    "y = df['Avg Pump Difference']\n",
    "\n",
    "X_train, X_test, y_train, y_test = model_selection.train_test_split(X, y, test_size=0.2, random_state=12343)\n"
   ]
  },
  {
   "cell_type": "code",
   "execution_count": 89,
   "id": "a5bc457e",
   "metadata": {},
   "outputs": [
    {
     "name": "stdout",
     "output_type": "stream",
     "text": [
      "Training Accuracy %: 40.39992012089086\n",
      "Testing Accuracy %: 31.487354439098546\n"
     ]
    }
   ],
   "source": [
    "linear = linear_model.LinearRegression()\n",
    "linear.fit(X_train, y_train)\n",
    "\n",
    "pred = linear.predict(X_test) # Not sure what to do with this yet\n",
    "\n",
    "print('Training Accuracy %:', linear.score(X_train, y_train) * 100)\n",
    "print('Testing Accuracy %:', linear.score(X_test, y_test) * 100)"
   ]
  },
  {
   "cell_type": "code",
   "execution_count": 90,
   "id": "f0aaa7cf",
   "metadata": {},
   "outputs": [
    {
     "data": {
      "text/plain": [
       "0.08056433299089061"
      ]
     },
     "execution_count": 90,
     "metadata": {},
     "output_type": "execute_result"
    }
   ],
   "source": [
    "decision_tree_reg = tree.DecisionTreeRegressor(max_leaf_nodes = 22) # make the model object and set the hyperparameters\n",
    "decision_tree_reg.fit(X_train, y_train)\n",
    "\n",
    "pred = decision_tree_reg.predict(X_test)\n",
    "\n",
    "decision_tree_reg.score(X_test, y_test)"
   ]
  },
  {
   "cell_type": "code",
   "execution_count": 91,
   "id": "fb41f2a9",
   "metadata": {},
   "outputs": [
    {
     "data": {
      "text/plain": [
       "0.3603726016588912"
      ]
     },
     "execution_count": 91,
     "metadata": {},
     "output_type": "execute_result"
    }
   ],
   "source": [
    "from sklearn.ensemble import RandomForestRegressor        \n",
    "\n",
    "fnodes = 60                                            # hyperparameters\n",
    "fnodes_min = 2; fnodes_max=100; fnnodes = 40              \n",
    "\n",
    "#max_depth = 40                                            \n",
    "n_estimators = 10\n",
    "max_features = 4\n",
    "\n",
    "forest_model = RandomForestRegressor(max_leaf_nodes=fnodes,random_state=73073,n_estimators=n_estimators, max_features=max_features)\n",
    "forest_model.fit(X_train,y_train) # train the model with training data \n",
    "\n",
    "forest_model.score(X_test, y_test)"
   ]
  },
  {
   "cell_type": "code",
   "execution_count": 92,
   "id": "2eb08fec",
   "metadata": {},
   "outputs": [
    {
     "data": {
      "text/plain": [
       "0.31486866693804016"
      ]
     },
     "execution_count": 92,
     "metadata": {},
     "output_type": "execute_result"
    }
   ],
   "source": [
    "from sklearn.linear_model import Ridge\n",
    "\n",
    "lam = 0.00001                                                  # hyperparameter\n",
    "lam_min = 1.0e-10; lam_max = 1.0e10; nlam = 20                           \n",
    "\n",
    "ridge_model = Ridge(alpha = lam)                             # instantiate the prediction model\n",
    "ridge_model.fit(X_train,y_train)    \n",
    "\n",
    "ridge_model.score(X_test, y_test)"
   ]
  },
  {
   "cell_type": "code",
   "execution_count": 93,
   "id": "d080db19",
   "metadata": {},
   "outputs": [
    {
     "data": {
      "text/plain": [
       "0.19648724145144736"
      ]
     },
     "execution_count": 93,
     "metadata": {},
     "output_type": "execute_result"
    }
   ],
   "source": [
    "from sklearn.neighbors import KNeighborsRegressor          \n",
    "\n",
    "k = 7                                                      # hyperparameter\n",
    "k_min = 1; k_max=150; nk = 80                         \n",
    "\n",
    "neigh_model = KNeighborsRegressor(weights = 'uniform', n_neighbors=k, p = 1) # instantiate the prediction model\n",
    "neigh_model.fit(X_train,y_train)\n",
    "\n",
    "neigh_model.score(X_test, y_test)"
   ]
  },
  {
   "cell_type": "code",
   "execution_count": 94,
   "id": "32b125d9",
   "metadata": {},
   "outputs": [
    {
     "data": {
      "text/plain": [
       "0.10575495056452933"
      ]
     },
     "execution_count": 94,
     "metadata": {},
     "output_type": "execute_result"
    }
   ],
   "source": [
    "from sklearn import tree                                   # tree program from scikit learn (package for machine learning)\n",
    "\n",
    "nodes =8                                                 # hyperparameters\n",
    "nodes_min = 2; nodes_max=100; nnodes = 80                         \n",
    "\n",
    "tree_model = tree.DecisionTreeRegressor(max_leaf_nodes = nodes) # instantiate the prediction model\n",
    "tree_model.fit(X_train,y_train)                            # train the model with the training data\n",
    "\n",
    "tree_model.score(X_test, y_test)"
   ]
  },
  {
   "cell_type": "code",
   "execution_count": null,
   "id": "9a07d075",
   "metadata": {},
   "outputs": [],
   "source": []
  },
  {
   "cell_type": "code",
   "execution_count": null,
   "id": "9707cdd1",
   "metadata": {},
   "outputs": [],
   "source": []
  }
 ],
 "metadata": {
  "kernelspec": {
   "display_name": "Python 3 (ipykernel)",
   "language": "python",
   "name": "python3"
  },
  "language_info": {
   "codemirror_mode": {
    "name": "ipython",
    "version": 3
   },
   "file_extension": ".py",
   "mimetype": "text/x-python",
   "name": "python",
   "nbconvert_exporter": "python",
   "pygments_lexer": "ipython3",
   "version": "3.11.5"
  }
 },
 "nbformat": 4,
 "nbformat_minor": 5
}
