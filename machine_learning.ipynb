{
 "cells": [
  {
   "cell_type": "code",
   "execution_count": 4,
   "id": "103a520b-9d95-4289-bac3-a37f135c5cd0",
   "metadata": {},
   "outputs": [
    {
     "name": "stderr",
     "output_type": "stream",
     "text": [
      "/usr/lib/python3/dist-packages/scipy/__init__.py:146: UserWarning: A NumPy version >=1.17.3 and <1.25.0 is required for this version of SciPy (detected version 1.26.3\n",
      "  warnings.warn(f\"A NumPy version >={np_minversion} and <{np_maxversion}\"\n",
      "/tmp/ipykernel_6611/3213456426.py:7: DeprecationWarning: \n",
      "Pyarrow will become a required dependency of pandas in the next major release of pandas (pandas 3.0),\n",
      "(to allow more performant data types, such as the Arrow string type, and better interoperability with other libraries)\n",
      "but was not found to be installed on your system.\n",
      "If this would cause problems for you,\n",
      "please provide us feedback at https://github.com/pandas-dev/pandas/issues/54466\n",
      "        \n",
      "  import pandas as pd                                       # DataFrames for tabular data\n"
     ]
    }
   ],
   "source": [
    "# Imports\n",
    "import os                                                 # to set current working directory\n",
    "import math                                               # basic calculations like square root\n",
    "from sklearn.model_selection import train_test_split      # train and test split\n",
    "from sklearn import tree                                  # tree program from scikit learn (package for machine learning)\n",
    "from sklearn.metrics import mean_squared_error            # specific measures to check our models\n",
    "import pandas as pd                                       # DataFrames for tabular data\n",
    "import numpy as np                                        # arrays and matrix math\n",
    "import matplotlib.pyplot as plt                           # general plotting\n",
    "import seaborn as sns                                     # density plots"
   ]
  },
  {
   "cell_type": "code",
   "execution_count": 5,
   "id": "541f4b3f-1be4-4120-a5ae-bca2acd37524",
   "metadata": {},
   "outputs": [],
   "source": [
    "def visualize_model(model,xfeature,x_min,x_max,yfeature,y_min,y_max,response,z_min,z_max,title,):# plots the data points and the decision tree prediction\n",
    "    cmap = plt.cm.inferno\n",
    "    xplot_step = (x_max - x_min)/300.0; yplot_step = (y_max - y_min)/300.0 # resolution of the model visualization\n",
    "    xx, yy = np.meshgrid(np.arange(x_min, x_max, xplot_step), # set up the mesh\n",
    "                     np.arange(y_min, y_max, yplot_step))\n",
    "    Z = model.predict(np.c_[xx.ravel(), yy.ravel()])      # predict with our trained model over the mesh\n",
    "    Z = Z.reshape(xx.shape)\n",
    "    plt.scatter(xfeature,yfeature,s=None, c=response, marker=None, cmap=cmap, norm=None, vmin=z_min, vmax=z_max, alpha=0.8, linewidths=0.3, edgecolors=\"white\")\n",
    "    im = plt.imshow(Z,interpolation = None,aspect = \"auto\",extent = [x_min,x_max,y_min,y_max], vmin = z_min, vmax = z_max,cmap = cmap)\n",
    "    plt.title(title)                                       # add the labels\n",
    "    plt.xlabel(xfeature.name); plt.ylabel(yfeature.name)\n",
    "    plt.xlim([x_min,x_max]); plt.ylim([y_min,y_max])\n",
    "    cbar = plt.colorbar(im, orientation = 'vertical')      # add the color bar\n",
    "    cbar.set_label(response.name, rotation=270, labelpad=20)\n",
    "    return(plt)"
   ]
  },
  {
   "cell_type": "code",
   "execution_count": 6,
   "id": "6a70bdda-8cb5-4894-840d-f770d99c151d",
   "metadata": {},
   "outputs": [],
   "source": [
    "np.random.seed(2309487)                                     # set the random number seed"
   ]
  },
  {
   "cell_type": "code",
   "execution_count": 8,
   "id": "b0758cc7-2fe5-4e06-bc55-ca30e0095fc6",
   "metadata": {},
   "outputs": [],
   "source": [
    "my_data = pd.read_csv('HackathonData2024.csv')"
   ]
  },
  {
   "cell_type": "code",
   "execution_count": 12,
   "id": "41d307f4-5ee9-4898-a3a7-a5ff9ac90557",
   "metadata": {},
   "outputs": [],
   "source": [
    "X = my_data[['Avg Pump Difference','Area']]                            # slice predictor features, porosity and brittleness all samples\n",
    "y = my_data[['Lateral Length']]                               # slice repsonse features, production all samples"
   ]
  },
  {
   "cell_type": "code",
   "execution_count": 13,
   "id": "fe9b8b9c-e08f-4f2e-ad93-a6fada7744e8",
   "metadata": {},
   "outputs": [],
   "source": [
    "por_min = 0.0; por_max = 25.0                             # predictor feature 1, X1, range           \n",
    "brittle_min = 0.0; brittle_max = 100.0                    # predictor feature 2, X2, range\n",
    "prod_min = 0.0; prod_max = 10000.0                        # response feature range\n",
    "cmap = plt.cm.inferno                                     # color map, variable tone and intensity for color blind individuals, and inferno is rad\n",
    "error_min = -4000.0; error_max = 4000.0                   # prediction error range\n",
    "nbin = 40                                                 # number of bins in histograms"
   ]
  },
  {
   "cell_type": "code",
   "execution_count": 14,
   "id": "33be56ea-9f5f-4030-99ab-70c75b62a830",
   "metadata": {},
   "outputs": [
    {
     "name": "stdout",
     "output_type": "stream",
     "text": [
      "Number of training 278, number of test 70\n"
     ]
    }
   ],
   "source": [
    "X_train, X_test, y_train, y_test = train_test_split(X, y, test_size=0.2, random_state=None) # train and test split\n",
    "n_train = len(X_train)\n",
    "n_test = len(X_test)\n",
    "print('Number of training ' + str(n_train) + ', number of test ' + str(n_test))"
   ]
  },
  {
   "cell_type": "code",
   "execution_count": 15,
   "id": "1455dea4-a0ed-4fa1-b15c-f09715b12818",
   "metadata": {},
   "outputs": [
    {
     "ename": "KeyError",
     "evalue": "'Por'",
     "output_type": "error",
     "traceback": [
      "\u001b[0;31m---------------------------------------------------------------------------\u001b[0m",
      "\u001b[0;31mKeyError\u001b[0m                                  Traceback (most recent call last)",
      "File \u001b[0;32m~/.local/lib/python3.10/site-packages/pandas/core/indexes/base.py:3802\u001b[0m, in \u001b[0;36mIndex.get_loc\u001b[0;34m(self, key)\u001b[0m\n\u001b[1;32m   3801\u001b[0m \u001b[38;5;28;01mtry\u001b[39;00m:\n\u001b[0;32m-> 3802\u001b[0m     \u001b[38;5;28;01mreturn\u001b[39;00m \u001b[38;5;28;43mself\u001b[39;49m\u001b[38;5;241;43m.\u001b[39;49m\u001b[43m_engine\u001b[49m\u001b[38;5;241;43m.\u001b[39;49m\u001b[43mget_loc\u001b[49m\u001b[43m(\u001b[49m\u001b[43mcasted_key\u001b[49m\u001b[43m)\u001b[49m\n\u001b[1;32m   3803\u001b[0m \u001b[38;5;28;01mexcept\u001b[39;00m \u001b[38;5;167;01mKeyError\u001b[39;00m \u001b[38;5;28;01mas\u001b[39;00m err:\n",
      "File \u001b[0;32mindex.pyx:153\u001b[0m, in \u001b[0;36mpandas._libs.index.IndexEngine.get_loc\u001b[0;34m()\u001b[0m\n",
      "File \u001b[0;32mindex.pyx:182\u001b[0m, in \u001b[0;36mpandas._libs.index.IndexEngine.get_loc\u001b[0;34m()\u001b[0m\n",
      "File \u001b[0;32mpandas/_libs/hashtable_class_helper.pxi:7081\u001b[0m, in \u001b[0;36mpandas._libs.hashtable.PyObjectHashTable.get_item\u001b[0;34m()\u001b[0m\n",
      "File \u001b[0;32mpandas/_libs/hashtable_class_helper.pxi:7089\u001b[0m, in \u001b[0;36mpandas._libs.hashtable.PyObjectHashTable.get_item\u001b[0;34m()\u001b[0m\n",
      "\u001b[0;31mKeyError\u001b[0m: 'Por'",
      "\nThe above exception was the direct cause of the following exception:\n",
      "\u001b[0;31mKeyError\u001b[0m                                  Traceback (most recent call last)",
      "Cell \u001b[0;32mIn[15], line 2\u001b[0m\n\u001b[1;32m      1\u001b[0m plt\u001b[38;5;241m.\u001b[39msubplot(\u001b[38;5;241m121\u001b[39m)                                          \u001b[38;5;66;03m# scatter plot of the training data, 1 row x 2 columns\u001b[39;00m\n\u001b[0;32m----> 2\u001b[0m im \u001b[38;5;241m=\u001b[39m plt\u001b[38;5;241m.\u001b[39mscatter(\u001b[43mX_train\u001b[49m\u001b[43m[\u001b[49m\u001b[38;5;124;43m\"\u001b[39;49m\u001b[38;5;124;43mPor\u001b[39;49m\u001b[38;5;124;43m\"\u001b[39;49m\u001b[43m]\u001b[49m,X_train[\u001b[38;5;124m\"\u001b[39m\u001b[38;5;124mBrittle\u001b[39m\u001b[38;5;124m\"\u001b[39m],s\u001b[38;5;241m=\u001b[39m\u001b[38;5;28;01mNone\u001b[39;00m, c\u001b[38;5;241m=\u001b[39my_train[\u001b[38;5;124m\"\u001b[39m\u001b[38;5;124mProduction\u001b[39m\u001b[38;5;124m\"\u001b[39m], marker\u001b[38;5;241m=\u001b[39m\u001b[38;5;28;01mNone\u001b[39;00m, cmap\u001b[38;5;241m=\u001b[39mcmap, norm\u001b[38;5;241m=\u001b[39m\u001b[38;5;28;01mNone\u001b[39;00m, vmin\u001b[38;5;241m=\u001b[39mprod_min, vmax\u001b[38;5;241m=\u001b[39mprod_max, alpha\u001b[38;5;241m=\u001b[39m\u001b[38;5;241m0.8\u001b[39m, linewidths\u001b[38;5;241m=\u001b[39m\u001b[38;5;241m0.3\u001b[39m, verts\u001b[38;5;241m=\u001b[39m\u001b[38;5;28;01mNone\u001b[39;00m, edgecolors\u001b[38;5;241m=\u001b[39m\u001b[38;5;124m\"\u001b[39m\u001b[38;5;124mblack\u001b[39m\u001b[38;5;124m\"\u001b[39m)\n\u001b[1;32m      3\u001b[0m plt\u001b[38;5;241m.\u001b[39mtitle(\u001b[38;5;124m'\u001b[39m\u001b[38;5;124mTraining Data: Production vs. Brittleness and Porosity\u001b[39m\u001b[38;5;124m'\u001b[39m); plt\u001b[38;5;241m.\u001b[39mxlabel(\u001b[38;5;124m'\u001b[39m\u001b[38;5;124mPorosity (\u001b[39m\u001b[38;5;124m%\u001b[39m\u001b[38;5;124m)\u001b[39m\u001b[38;5;124m'\u001b[39m); plt\u001b[38;5;241m.\u001b[39mylabel(\u001b[38;5;124m'\u001b[39m\u001b[38;5;124mBrittleness (\u001b[39m\u001b[38;5;124m%\u001b[39m\u001b[38;5;124m)\u001b[39m\u001b[38;5;124m'\u001b[39m)\n\u001b[1;32m      4\u001b[0m cbar \u001b[38;5;241m=\u001b[39m plt\u001b[38;5;241m.\u001b[39mcolorbar(im, orientation \u001b[38;5;241m=\u001b[39m \u001b[38;5;124m'\u001b[39m\u001b[38;5;124mvertical\u001b[39m\u001b[38;5;124m'\u001b[39m); plt\u001b[38;5;241m.\u001b[39mxlim(por_min,por_max); plt\u001b[38;5;241m.\u001b[39mylim(brittle_min,brittle_max)\n",
      "File \u001b[0;32m~/.local/lib/python3.10/site-packages/pandas/core/frame.py:4090\u001b[0m, in \u001b[0;36mDataFrame.__getitem__\u001b[0;34m(self, key)\u001b[0m\n\u001b[1;32m   4088\u001b[0m \u001b[38;5;28;01mif\u001b[39;00m \u001b[38;5;28mself\u001b[39m\u001b[38;5;241m.\u001b[39mcolumns\u001b[38;5;241m.\u001b[39mnlevels \u001b[38;5;241m>\u001b[39m \u001b[38;5;241m1\u001b[39m:\n\u001b[1;32m   4089\u001b[0m     \u001b[38;5;28;01mreturn\u001b[39;00m \u001b[38;5;28mself\u001b[39m\u001b[38;5;241m.\u001b[39m_getitem_multilevel(key)\n\u001b[0;32m-> 4090\u001b[0m indexer \u001b[38;5;241m=\u001b[39m \u001b[38;5;28;43mself\u001b[39;49m\u001b[38;5;241;43m.\u001b[39;49m\u001b[43mcolumns\u001b[49m\u001b[38;5;241;43m.\u001b[39;49m\u001b[43mget_loc\u001b[49m\u001b[43m(\u001b[49m\u001b[43mkey\u001b[49m\u001b[43m)\u001b[49m\n\u001b[1;32m   4091\u001b[0m \u001b[38;5;28;01mif\u001b[39;00m is_integer(indexer):\n\u001b[1;32m   4092\u001b[0m     indexer \u001b[38;5;241m=\u001b[39m [indexer]\n",
      "File \u001b[0;32m~/.local/lib/python3.10/site-packages/pandas/core/indexes/base.py:3809\u001b[0m, in \u001b[0;36mIndex.get_loc\u001b[0;34m(self, key)\u001b[0m\n\u001b[1;32m   3804\u001b[0m     \u001b[38;5;28;01mif\u001b[39;00m \u001b[38;5;28misinstance\u001b[39m(casted_key, \u001b[38;5;28mslice\u001b[39m) \u001b[38;5;129;01mor\u001b[39;00m (\n\u001b[1;32m   3805\u001b[0m         \u001b[38;5;28misinstance\u001b[39m(casted_key, abc\u001b[38;5;241m.\u001b[39mIterable)\n\u001b[1;32m   3806\u001b[0m         \u001b[38;5;129;01mand\u001b[39;00m \u001b[38;5;28many\u001b[39m(\u001b[38;5;28misinstance\u001b[39m(x, \u001b[38;5;28mslice\u001b[39m) \u001b[38;5;28;01mfor\u001b[39;00m x \u001b[38;5;129;01min\u001b[39;00m casted_key)\n\u001b[1;32m   3807\u001b[0m     ):\n\u001b[1;32m   3808\u001b[0m         \u001b[38;5;28;01mraise\u001b[39;00m InvalidIndexError(key)\n\u001b[0;32m-> 3809\u001b[0m     \u001b[38;5;28;01mraise\u001b[39;00m \u001b[38;5;167;01mKeyError\u001b[39;00m(key) \u001b[38;5;28;01mfrom\u001b[39;00m \u001b[38;5;21;01merr\u001b[39;00m\n\u001b[1;32m   3810\u001b[0m \u001b[38;5;28;01mexcept\u001b[39;00m \u001b[38;5;167;01mTypeError\u001b[39;00m:\n\u001b[1;32m   3811\u001b[0m     \u001b[38;5;66;03m# If we have a listlike key, _check_indexing_error will raise\u001b[39;00m\n\u001b[1;32m   3812\u001b[0m     \u001b[38;5;66;03m#  InvalidIndexError. Otherwise we fall through and re-raise\u001b[39;00m\n\u001b[1;32m   3813\u001b[0m     \u001b[38;5;66;03m#  the TypeError.\u001b[39;00m\n\u001b[1;32m   3814\u001b[0m     \u001b[38;5;28mself\u001b[39m\u001b[38;5;241m.\u001b[39m_check_indexing_error(key)\n",
      "\u001b[0;31mKeyError\u001b[0m: 'Por'"
     ]
    },
    {
     "data": {
      "image/png": "[encoded data removed]",
      "text/plain": [
       "<Figure size 640x480 with 1 Axes>"
      ]
     },
     "metadata": {},
     "output_type": "display_data"
    }
   ],
   "source": [
    "plt.subplot(121)                                          # scatter plot of the training data, 1 row x 2 columns\n",
    "im = plt.scatter(X_train[\"Por\"],X_train[\"Brittle\"],s=None, c=y_train[\"Production\"], marker=None, cmap=cmap, norm=None, vmin=prod_min, vmax=prod_max, alpha=0.8, linewidths=0.3, verts=None, edgecolors=\"black\")\n",
    "plt.title('Training Data: Production vs. Brittleness and Porosity'); plt.xlabel('Porosity (%)'); plt.ylabel('Brittleness (%)')\n",
    "cbar = plt.colorbar(im, orientation = 'vertical'); plt.xlim(por_min,por_max); plt.ylim(brittle_min,brittle_max)\n",
    "cbar.set_label(\"Production (MCFPD)\", rotation=270, labelpad=20)\n",
    "\n",
    "plt.subplot(122)                                          # scatter plot of the testing data, 1 row x 2 columns\n",
    "im = plt.scatter(X_test[\"Por\"],X_test[\"Brittle\"],s=None, c=y_test[\"Production\"], marker=None, cmap=cmap, norm=None, vmin=prod_min, vmax=prod_max, alpha=0.8, linewidths=0.3, verts=None, edgecolors=\"black\")\n",
    "plt.title('Testing Data: Production vs. Brittleness and Porosity'); plt.xlabel('Porosity (%)'); plt.ylabel('Brittleness (%)')\n",
    "cbar = plt.colorbar(im, orientation = 'vertical'); plt.xlim(por_min,por_max); plt.ylim(brittle_min,brittle_max)\n",
    "cbar.set_label(\"Production (MCFPD)\", rotation=270, labelpad=20)\n",
    "\n",
    "plt.subplots_adjust(left=0.0, bottom=0.0, right=2.2, top=1.2, wspace=0.3, hspace=0.2)\n",
    "plt.show()"
   ]
  },
  {
   "cell_type": "code",
   "execution_count": null,
   "id": "5d9037c7-2775-42ae-8f70-512deb82e5a2",
   "metadata": {},
   "outputs": [],
   "source": []
  }
 ],
 "metadata": {
  "kernelspec": {
   "display_name": "Python 3 (ipykernel)",
   "language": "python",
   "name": "python3"
  },
  "language_info": {
   "codemirror_mode": {
    "name": "ipython",
    "version": 3
   },
   "file_extension": ".py",
   "mimetype": "text/x-python",
   "name": "python",
   "nbconvert_exporter": "python",
   "pygments_lexer": "ipython3",
   "version": "3.11.5"
  }
 },
 "nbformat": 4,
 "nbformat_minor": 5
}
